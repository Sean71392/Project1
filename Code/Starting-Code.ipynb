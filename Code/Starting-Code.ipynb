{
 "cells": [
  {
   "cell_type": "code",
   "execution_count": 1,
   "id": "6658416a-b38c-4760-8661-467c4cb16c46",
   "metadata": {},
   "outputs": [
    {
     "data": {
      "text/plain": [
       "'14457dd97a1c61a0d1e1208bf8ecdcf6d25992ac'"
      ]
     },
     "execution_count": 1,
     "metadata": {},
     "output_type": "execute_result"
    }
   ],
   "source": [
    "import pandas as pd\n",
    "import numpy as np\n",
    "import requests\n",
    "import json\n",
    "\n",
    "\n",
    "\n",
    "from config import covidkey\n",
    "from config import censuskey\n",
    "\n",
    "censuskey\n"
   ]
  },
  {
   "cell_type": "code",
   "execution_count": 3,
   "id": "7958ae1d-c898-4a88-8466-a946ea03fe0f",
   "metadata": {},
   "outputs": [
    {
     "data": {
      "text/plain": [
       "'api.census.gov/data/2019/pep/population?get=COUNTY,DATE_CODE,DATE_DESC,DENSITY,POP,NAME,STATE&for=region:*&key=14457dd97a1c61a0d1e1208bf8ecdcf6d25992ac'"
      ]
     },
     "execution_count": 3,
     "metadata": {},
     "output_type": "execute_result"
    }
   ],
   "source": [
    "census_url=f\"api.census.gov/data/2019/pep/population?get=COUNTY,DATE_CODE,DATE_DESC,DENSITY,POP,NAME,STATE&for=region:*&key={censuskey}\"\n",
    "\n",
    "census_url"
   ]
  },
  {
   "cell_type": "code",
   "execution_count": 18,
   "id": "f2233c7e",
   "metadata": {},
   "outputs": [
    {
     "data": {
      "text/plain": [
       "'CSVs/Covid_Now_CSVs/counties.csv'"
      ]
     },
     "execution_count": 18,
     "metadata": {},
     "output_type": "execute_result"
    }
   ],
   "source": [
    "oxford_df=pd.read_csv(\"CSVs/OxCGRT_US_latest.csv\")\n",
    "\n",
    "# oxford_df.head\n",
    "\n",
    "\n",
    "covidnow_st_df=pd.read_csv(\"CSVs/Covid_Now_CSVs/states.csv\")\n",
    "# covidnow_st_df\n",
    "\n",
    "covidnow_cou_df=(\"CSVs/Covid_Now_CSVs/counties.csv\")\n",
    "# covidnow_cou_df???"
   ]
  },
  {
   "cell_type": "code",
   "execution_count": null,
   "id": "560f4879-b759-4dce-a555-3255ee9be6cc",
   "metadata": {},
   "outputs": [],
   "source": []
  },
  {
   "cell_type": "code",
   "execution_count": null,
   "id": "fe74c74c-45fc-48d7-aa62-cd9330d6b8e4",
   "metadata": {},
   "outputs": [],
   "source": []
  }
 ],
 "metadata": {
  "kernelspec": {
   "display_name": "Python 3",
   "language": "python",
   "name": "python3"
  },
  "language_info": {
   "codemirror_mode": {
    "name": "ipython",
    "version": 3
   },
   "file_extension": ".py",
   "mimetype": "text/x-python",
   "name": "python",
   "nbconvert_exporter": "python",
   "pygments_lexer": "ipython3",
   "version": "3.8.8"
  }
 },
 "nbformat": 4,
 "nbformat_minor": 5
}
